{
 "cells": [
  {
   "cell_type": "markdown",
   "metadata": {},
   "source": [
    "# [IAPR 2020:][iapr2020] Lab 2 ‒  Object description\n",
    "\n",
    "**Authors:** Sven Borden, Sorya Jullien, Artur Jesslen  \n",
    "**Due date:** 24.04.2020\n",
    "\n",
    "[iapr2020]: https://github.com/LTS5/iapr-2020"
   ]
  },
  {
   "cell_type": "markdown",
   "metadata": {},
   "source": [
    "## Extract relevant data\n",
    "We first need to extract the `lab-02-data.tar.gz` archive.\n",
    "To this end, we use the [tarfile] module from the Python standard library.\n",
    "\n",
    "[tarfile]: https://docs.python.org/3.6/library/tarfile.html"
   ]
  },
  {
   "cell_type": "code",
   "execution_count": null,
   "metadata": {},
   "outputs": [],
   "source": [
    "import tarfile\n",
    "import os\n",
    "\n",
    "import math\n",
    "import cv2\n",
    "import numpy as np\n",
    "import matplotlib.pyplot as plt\n",
    "\n",
    "import wagner_fisher as wf\n",
    "\n",
    "data_base_path = os.path.join(os.pardir, 'data')\n",
    "data_folder = 'lab-02-data'\n",
    "tar_path = os.path.join(data_base_path, data_folder + '.tar.gz')\n",
    "with tarfile.open(tar_path, mode='r:gz') as tar:\n",
    "    tar.extractall(path=data_base_path)"
   ]
  },
  {
   "cell_type": "markdown",
   "metadata": {},
   "source": [
    "## Part 1\n",
    "In the `lab-02-data/part1` folder, you will find 28x28 grey-scale pictures of handwritten \"0\" and \"1\".\n",
    "These digits have been extracted from MNIST dataset (http://yann.lecun.com/exdb/mnist/).\n",
    "\n",
    "Your goal is to extract, from each of those images, a 2-dimensional feature vector (i.e. 2 features) and to plot them all on a 2D graph.\n",
    "If you have chosen good features, the vectors of the \"0\"'s should nicely cluster in one part of the plane and those of the \"1\"'s in another.\n",
    "\n",
    "Please try first the Fourier Descriptors.\n",
    "You can make several attempts: e.g. with and without invariance to rotation, translation, scaling, etc.\n",
    "You can also for instance rotate the images and assess the invariance in rotation.\n",
    "\n",
    "**Note:** for the Fourier descriptors, the u_k signal has to be constructed by following the contour point after point.\n",
    "Some pre-processing (image binarization, possibly some Mathematical Morphology) might be useful.\n",
    "\n",
    "Then feel free to try other features, the more you try, the better it will be (for you)."
   ]
  },
  {
   "cell_type": "markdown",
   "metadata": {},
   "source": [
    "### 1.1 Data visualization"
   ]
  },
  {
   "cell_type": "code",
   "execution_count": null,
   "metadata": {},
   "outputs": [],
   "source": [
    "import skimage.io\n",
    "import matplotlib.pyplot as plt\n",
    "%matplotlib inline\n",
    "\n",
    "# Load images\n",
    "data_base_path = os.path.join(os.pardir, 'data')\n",
    "data_folder = 'lab-02-data'\n",
    "\n",
    "#  Load zeros\n",
    "zeros_path = os.path.join(data_base_path, data_folder, 'part1', '0')\n",
    "zeros_names = [nm for nm in os.listdir(zeros_path) if '.png' in nm]  # make sure to only load .png\n",
    "zeros_names.sort()  # sort file names\n",
    "ic = skimage.io.imread_collection([os.path.join(zeros_path, nm) for nm in zeros_names])\n",
    "\n",
    "zeros_im = skimage.io.concatenate_images(ic)\n",
    "zeros_thresholded_tmp = [cv2.threshold(img.copy(), 2, 1, cv2.THRESH_BINARY) for img in zeros_im]\n",
    "zeros_thresholded = [threshold for _, threshold in zeros_thresholded_tmp]\n",
    "del zeros_thresholded_tmp\n",
    "\n",
    "\n",
    "#  Load ones\n",
    "ones_path = os.path.join(data_base_path, data_folder, 'part1', '1')\n",
    "ones_names = [nm for nm in os.listdir(ones_path) if '.png' in nm]  # make sure to only load .png\n",
    "ones_names.sort()  # sort file names\n",
    "ic = skimage.io.imread_collection(([os.path.join(ones_path, nm) for nm in ones_names]))\n",
    "\n",
    "ones_im = skimage.io.concatenate_images(ic)\n",
    "ones_thresholded_tmp = [cv2.threshold(img.copy(), 2, 1, cv2.THRESH_BINARY) for img in ones_im]\n",
    "ones_thresholded = [threshold for _, threshold in ones_thresholded_tmp]\n",
    "del ones_thresholded_tmp\n",
    "\n",
    "\n",
    "# Plot images\n",
    "fig, axes = plt.subplots(2, len(zeros_im), figsize=(12, 3))\n",
    "for ax, im, nm in zip(axes[0], zeros_im, zeros_names):\n",
    "    ax.imshow(im, cmap='gray')\n",
    "    ax.axis('off')\n",
    "    ax.set_title(nm)\n",
    "for ax, im, nm in zip(axes[1], ones_im, ones_names):\n",
    "    ax.imshow(im, cmap='gray')\n",
    "    ax.axis('off')\n",
    "    ax.set_title(nm)"
   ]
  },
  {
   "cell_type": "markdown",
   "metadata": {},
   "source": [
    "### 1.2 Fourier descriptors"
   ]
  },
  {
   "cell_type": "markdown",
   "metadata": {},
   "source": [
    "#### Find descriptors "
   ]
  },
  {
   "cell_type": "code",
   "execution_count": null,
   "metadata": {},
   "outputs": [],
   "source": [
    "MIN_CONTOUR_POINT = 20"
   ]
  },
  {
   "cell_type": "code",
   "execution_count": null,
   "metadata": {},
   "outputs": [],
   "source": [
    "def find_contour(img, opencv_version):\n",
    "    \"\"\" Finds and returns the contour of the image\"\"\"\n",
    "    contour = []\n",
    "    if int(opencv_version) >= 3:\n",
    "        imgc = img.copy()\n",
    "        image, contour, hierarchy = cv2.findContours(imgc, mode = cv2.RETR_TREE, method = cv2.CHAIN_APPROX_NONE)\n",
    "    else:\n",
    "        contour, hierarchy = cv2.findContours(img.copy(), mode = cv2.RETR_TREE, method = cv2.CHAIN_APPROX_NONE)\n",
    "    \n",
    "    contour_array = contour[0].reshape(-1, 2)\n",
    "    if contour_array.shape[0] < MIN_CONTOUR_POINT:\n",
    "        contour_array = contour[1].reshape(-1, 2)\n",
    "    #contour_array = contour[0][:, 0, :]\n",
    "    #if len(contour_array) < MIN_CONTOUR_POINT :\n",
    "    #    contour_array = contour[1][:, 0, :]\n",
    "    return contour_array\n",
    "\n",
    "def convert_contour(contour):\n",
    "    contour_complex = np.empty(contour.shape[:-1], dtype=complex)\n",
    "    contour_complex.real = contour[:, 0]\n",
    "    contour_complex.imag = contour[:, 1]\n",
    "    return contour_complex"
   ]
  },
  {
   "cell_type": "code",
   "execution_count": null,
   "metadata": {},
   "outputs": [],
   "source": [
    "def find_descriptor(contour):\n",
    "    \"\"\" Finds and returns the Fourier-Descriptor from the image contour\"\"\"\n",
    "    return np.fft.fft(contour)"
   ]
  },
  {
   "cell_type": "code",
   "execution_count": null,
   "metadata": {},
   "outputs": [],
   "source": [
    "opencv_version, _, _ = cv2.__version__.split(\".\")"
   ]
  },
  {
   "cell_type": "code",
   "execution_count": null,
   "metadata": {
    "scrolled": false
   },
   "outputs": [],
   "source": [
    "zero_contours = []\n",
    "one_contours = []\n",
    "\n",
    "zero_descriptors = []\n",
    "one_descriptors = []\n",
    "\n",
    "for zero_img, one_img in zip(zeros_thresholded, ones_thresholded):\n",
    "    contour0_raw = find_contour(zero_img, opencv_version)\n",
    "    contour0_complex = convert_contour(contour0_raw)\n",
    "    descriptor0 = find_descriptor(contour0_complex)\n",
    "    \n",
    "    contour1_raw = find_contour(one_img, opencv_version)\n",
    "    contour1_complex = convert_contour(contour1_raw)\n",
    "    descriptor1 = find_descriptor(contour1_complex)\n",
    "    \n",
    "    # Save for later usage\n",
    "    zero_contours.append(contour0_raw)\n",
    "    one_contours.append(contour1_raw)\n",
    "    zero_descriptors.append(descriptor0)\n",
    "    one_descriptors.append(descriptor1)\n"
   ]
  },
  {
   "cell_type": "code",
   "execution_count": null,
   "metadata": {},
   "outputs": [],
   "source": [
    "# Plot contours \n",
    "fig, axes = plt.subplots(2, len(zeros_im), figsize=(12, 3))\n",
    "for ax, im, nm, cont in zip(axes[0], zeros_im, zeros_names, zero_contours):\n",
    "    ax.scatter(cont[:, 0], cont[:, 1])\n",
    "    ax.axis('off')\n",
    "    ax.set_title(nm)\n",
    "for ax, im, nm, cont in zip(axes[1], ones_im, ones_names, one_contours):\n",
    "    ax.scatter(cont[:, 0], cont[:, 1], marker=',')\n",
    "    ax.axis('off')\n",
    "    ax.set_title(nm)"
   ]
  },
  {
   "cell_type": "code",
   "execution_count": null,
   "metadata": {},
   "outputs": [],
   "source": [
    "cv2.destroyAllWindows()\n",
    "nb_coeff = 2\n",
    "zeros_coeff = []\n",
    "ones_coeff = []\n",
    "\n",
    "for zero_descriptor, one_descriptor in zip(zero_descriptors, one_descriptors):\n",
    "    zeros_coeff.append(np.absolute(zero_descriptor[1:nb_coeff+1]))\n",
    "    ones_coeff.append(np.absolute(one_descriptor[1:nb_coeff+1]))\n",
    "\n",
    "plt.scatter(np.asarray(zeros_coeff)[:,0], np.asarray(zeros_coeff)[:,1], color='red', label='zeros descriptors')\n",
    "plt.scatter(np.asarray(ones_coeff)[:,0], np.asarray(ones_coeff)[:,1], color='blue', label='ones descriptors')   \n",
    "plt.xlabel(\"Fourrier coefficient 1\")\n",
    "plt.ylabel(\"Fourrier coefficient 2\")\n",
    "plt.legend()\n",
    "plt.show()"
   ]
  },
  {
   "cell_type": "markdown",
   "metadata": {},
   "source": [
    "### 1.3 Additional method(s)\n"
   ]
  },
  {
   "cell_type": "markdown",
   "metadata": {},
   "source": [
    "#### Freeman/Chain Code "
   ]
  },
  {
   "cell_type": "code",
   "execution_count": null,
   "metadata": {},
   "outputs": [],
   "source": [
    "nb_direction = 8"
   ]
  },
  {
   "cell_type": "code",
   "execution_count": null,
   "metadata": {},
   "outputs": [],
   "source": [
    "def get_code(angle, nb_direction):\n",
    "    modulo_angle = 360 // nb_direction\n",
    "    angle_direction = np.linspace(-180, 180, nb_direction+1)\n",
    "    return np.abs(angle_direction - angle).argmin()"
   ]
  },
  {
   "cell_type": "code",
   "execution_count": null,
   "metadata": {},
   "outputs": [],
   "source": [
    "def create_freeman_code(contour, nb_direction):\n",
    "    \"\"\"Create freeman code (string containing integer character) and differentia freeman code from given image\"\"\"\n",
    "    code = \"\"\n",
    "    diffCode = \"\"\n",
    "    # Compute code\n",
    "    for i in range(contour.shape[0]-1):\n",
    "        next_dir = contour[i+1] - contour[i]\n",
    "        # in degrees\n",
    "        angle = math.atan2(next_dir[1], next_dir[0]) * 180 / math.pi\n",
    "        code += str(get_code(angle, nb_direction))\n",
    "    # Compute differential code\n",
    "    for i in range(len(code)-1):\n",
    "        new_code = str((int(code[i+1]) - int(code[i]) + nb_direction) % nb_direction)\n",
    "        diffCode += new_code\n",
    "    \n",
    "    return code, diffCode\n",
    "\n",
    "def calculate_distance(code1, code2):\n",
    "    return wf.WagnerFischer(code1, code2).cost\n"
   ]
  },
  {
   "cell_type": "code",
   "execution_count": null,
   "metadata": {},
   "outputs": [],
   "source": [
    "zero_freeman_codes = []\n",
    "one_freeman_codes = []\n",
    "\n",
    "\n",
    "for contour0, contour1 in zip(zero_contours, one_contours):\n",
    "    zero_freeman_codes.append(create_freeman_code(contour0, nb_direction))\n",
    "    one_freeman_codes.append(create_freeman_code(contour1, nb_direction))\n"
   ]
  },
  {
   "cell_type": "markdown",
   "metadata": {},
   "source": [
    "#### Display results of distance between freeman codes"
   ]
  },
  {
   "cell_type": "code",
   "execution_count": null,
   "metadata": {},
   "outputs": [],
   "source": [
    "raise NotImplementedError"
   ]
  },
  {
   "cell_type": "markdown",
   "metadata": {},
   "source": [
    "### Distance map"
   ]
  },
  {
   "cell_type": "code",
   "execution_count": null,
   "metadata": {},
   "outputs": [],
   "source": [
    "def create_distance_map(img):\n",
    "    \"\"\"Create distance map from binary image\"\"\"\n",
    "    \n",
    "    if np.unique(img).shape[0] > 2:\n",
    "        raise NameError('Binary image expected.')\n",
    "        \n",
    "    # Initialization \n",
    "    out = np.zeros(img.shape, dtype=np.int64)\n",
    "    out[img == 0] = 2**62 #infinity\n",
    "    \n",
    "    # Direct passage\n",
    "    for i in range(1, out.shape[0]-1):\n",
    "        for j in range(1, out.shape[1]-1):\n",
    "            out[i, j] = np.array([out[i-1, j-1] + 4, out[i-1, j] + 3, out[i-1, j+1] + 4, out[i, j-1] + 3, out[i, j]]).min()\n",
    "    \n",
    "    # Inverse passage \n",
    "    for i in range(out.shape[0]-2, 0, -1):\n",
    "        for j in range(out.shape[1]-2, 0, -1):\n",
    "            out[i, j] = np.array([out[i, j+1] + 3, out[i+1, j-1] + 4, out[i+1, j] + 3, out[i+1, j+1] + 4, out[i, j]]).min()\n",
    "    \n",
    "    #!!!!!!! HERE !!!!!!!!\n",
    "    border = out == 2**62 \n",
    "    out[border] = 0\n",
    "    out[border] = out.max()\n",
    "    return out"
   ]
  },
  {
   "cell_type": "code",
   "execution_count": null,
   "metadata": {},
   "outputs": [],
   "source": [
    "def compute_dist(img, dist_map):\n",
    "    \"\"\"Compute distance between a binary image and another image using its distance map\"\"\"\n",
    "    if np.unique(img).shape[0] > 2:\n",
    "        raise NameError('Binary image expected.')\n",
    "    if img.shape != dist_map.shape:\n",
    "        raise NameError('Images must be of the same size.')\n",
    "        \n",
    "    dist = 0\n",
    "    for i in range(img.shape[0]):\n",
    "        for j in range(img.shape[1]):\n",
    "            if img[i,j] != 0:\n",
    "                dist += dist_map[i,j] \n",
    "    return dist"
   ]
  },
  {
   "cell_type": "markdown",
   "metadata": {},
   "source": [
    "## !!! If you have a better idea for the border, feel free to change !!!"
   ]
  },
  {
   "cell_type": "code",
   "execution_count": null,
   "metadata": {},
   "outputs": [],
   "source": [
    "zeros_distance_map = [create_distance_map(img) for img in zeros_thresholded]\n",
    "ones_distance_map = [create_distance_map(img) for img in ones_thresholded]\n",
    "\n",
    "fig, axes = plt.subplots(2, len(zeros_distance_map), figsize=(17, 4))\n",
    "fig.suptitle(\"Distance map\")\n",
    "for ax, im, nm in zip(axes[0], zeros_distance_map, zeros_names):\n",
    "    ax.imshow(im)\n",
    "    ax.axis('off')\n",
    "    ax.set_title(nm)\n",
    "for ax, im, nm in zip(axes[1], ones_distance_map, ones_names):\n",
    "    ax.imshow(im)\n",
    "    ax.axis('off')\n",
    "    ax.set_title(nm)\n"
   ]
  },
  {
   "cell_type": "code",
   "execution_count": null,
   "metadata": {},
   "outputs": [],
   "source": [
    "zero_dist_map = zeros_distance_map[0]\n",
    "one_dist_map = ones_distance_map[0]\n",
    "\n",
    "print(\"Calculating distance for each zero image and associating to its nearest class:\")\n",
    "for i in range(1, len(zeros_distance_map)):\n",
    "    dist_to_zero = compute_dist(zeros_thresholded[i], zero_dist_map)\n",
    "    dist_to_one = compute_dist(zeros_thresholded[i], one_dist_map)\n",
    "    print('Image {}: Its contour is closer to the contour of image of type {}'.format(zeros_names[i], 0 if dist_to_zero < dist_to_one else 1))\n",
    "    print('-------------> Distance to 0: {}, distance to 1: {}'.format(dist_to_zero, dist_to_one))\n",
    "\n",
    "print(\"\\nCalculating distance for each zero image and associating to its nearest class:\")\n",
    "for i in range(1, len(zeros_distance_map)):\n",
    "    dist_to_zero = compute_dist(ones_thresholded[i], zero_dist_map)\n",
    "    dist_to_one = compute_dist(ones_thresholded[i], one_dist_map)\n",
    "    print('Image {}: Its contour is closer to the contour of image of type {}'.format(ones_names[i], 0 if dist_to_zero < dist_to_one else 1))\n",
    "    print('-------------> Distance to 0: {}, distance to 1: {}'.format(dist_to_zero, dist_to_one))\n"
   ]
  },
  {
   "cell_type": "code",
   "execution_count": null,
   "metadata": {},
   "outputs": [],
   "source": []
  },
  {
   "cell_type": "markdown",
   "metadata": {},
   "source": [
    "#### Region based descriptor ?"
   ]
  },
  {
   "cell_type": "markdown",
   "metadata": {},
   "source": [
    "Don't know if it is worth it implementing region based descriptors "
   ]
  },
  {
   "cell_type": "markdown",
   "metadata": {},
   "source": [
    "## Part 2\n",
    "The `lab-02-data/part2` folder contains grey-scale pictures of handwritten \"2\" and \"3\".\n",
    "Extract the same feature (typically 2 Fourier descriptors) as in part 1 also on these images and plot them on the same graph as the features of the \"0\" and \"1\".\n",
    "Is it possible to discriminate all these 4 digits with a 2-dimensional feature vector?"
   ]
  },
  {
   "cell_type": "markdown",
   "metadata": {},
   "source": [
    "### 2.1 Data visualization"
   ]
  },
  {
   "cell_type": "code",
   "execution_count": null,
   "metadata": {},
   "outputs": [],
   "source": [
    "#  Load zeros\n",
    "twos_path = os.path.join(data_base_path, data_folder, 'part2', '2')\n",
    "twos_names = [nm for nm in os.listdir(twos_path) if '.png' in nm]  # make sure to only load .png\n",
    "twos_names.sort()  # sort file names\n",
    "ic = skimage.io.imread_collection([os.path.join(twos_path, nm) for nm in twos_names])\n",
    "\n",
    "twos_im = skimage.io.concatenate_images(ic)\n",
    "twos_thresholded_tmp = [cv2.threshold(img.copy(), 2, 1, cv2.THRESH_BINARY) for img in twos_im]\n",
    "twos_thresholded = [threshold for _, threshold in twos_thresholded_tmp]\n",
    "del twos_thresholded_tmp\n",
    "\n",
    "\n",
    "#  Load ones\n",
    "threes_path = os.path.join(data_base_path, data_folder, 'part2', '3')\n",
    "threes_names = [nm for nm in os.listdir(threes_path) if '.png' in nm]  # make sure to only load .png\n",
    "threes_names.sort()  # sort file names\n",
    "ic = skimage.io.imread_collection(([os.path.join(threes_path, nm) for nm in threes_names]))\n",
    "\n",
    "threes_im = skimage.io.concatenate_images(ic)\n",
    "threes_thresholded_tmp = [cv2.threshold(img.copy(), 2, 1, cv2.THRESH_BINARY) for img in threes_im]\n",
    "threes_thresholded = [threshold for _, threshold in threes_thresholded_tmp]\n",
    "del threes_thresholded_tmp\n",
    "\n",
    "# Plot images\n",
    "fig, axes = plt.subplots(2, len(twos_im), figsize=(12, 3))\n",
    "for ax, im, nm in zip(axes[0], twos_im, twos_names):\n",
    "    ax.imshow(im, cmap='gray')\n",
    "    ax.axis('off')\n",
    "    ax.set_title(nm)\n",
    "for ax, im, nm in zip(axes[1], threes_im, threes_names):\n",
    "    ax.imshow(im, cmap='gray')\n",
    "    ax.axis('off')\n",
    "    ax.set_title(nm)"
   ]
  },
  {
   "cell_type": "code",
   "execution_count": null,
   "metadata": {},
   "outputs": [],
   "source": [
    "zero_contours = []\n",
    "one_contours = []\n",
    "two_contours = []\n",
    "three_contours = []\n",
    "\n",
    "zero_descriptors = []\n",
    "one_descriptors = []\n",
    "two_descriptors = []\n",
    "three_descriptors = []\n",
    "\n",
    "for zero_img, one_img, two_img, three_img in zip(zeros_im, ones_im, twos_im, threes_im):\n",
    "    contour0_raw = find_contour(zero_img, opencv_version)\n",
    "    contour0_complex = convert_contour(contour0_raw)\n",
    "    descriptor0 = find_descriptor(contour0_complex)\n",
    "    \n",
    "    contour1_raw = find_contour(one_img, opencv_version)\n",
    "    contour1_complex = convert_contour(contour1_raw)\n",
    "    descriptor1 = find_descriptor(contour1_complex)\n",
    "    \n",
    "    contour2_raw = find_contour(two_img, opencv_version)\n",
    "    contour2_complex = convert_contour(contour2_raw)\n",
    "    descriptor2 = find_descriptor(contour2_complex)\n",
    "    \n",
    "    contour3_raw = find_contour(three_img, opencv_version)\n",
    "    contour3_complex = convert_contour(contour3_raw)\n",
    "    descriptor3 = find_descriptor(contour3_complex)\n",
    "    \n",
    "    # Save for later usage\n",
    "    zero_contours.append(contour0_raw)\n",
    "    one_contours.append(contour1_raw)\n",
    "    two_contours.append(contour2_raw)\n",
    "    three_contours.append(contour3_raw)\n",
    "    zero_descriptors.append(descriptor0)\n",
    "    one_descriptors.append(descriptor1)\n",
    "    two_descriptors.append(descriptor2)\n",
    "    three_descriptors.append(descriptor3)\n",
    "    "
   ]
  },
  {
   "cell_type": "code",
   "execution_count": null,
   "metadata": {},
   "outputs": [],
   "source": [
    "nb_coeff = 2\n",
    "zeros_coeff = []\n",
    "ones_coeff = []\n",
    "twos_coeff = []\n",
    "threes_coeff = []\n",
    "\n",
    "for zero_descriptor, one_descriptor, two_descriptor, three_descriptor \\\n",
    "    in zip(zero_descriptors, one_descriptors, two_descriptors, three_descriptors):\n",
    "    zeros_coeff.append(np.absolute(zero_descriptor[1:nb_coeff+1]))\n",
    "    ones_coeff.append(np.absolute(one_descriptor[1:nb_coeff+1]))\n",
    "    twos_coeff.append(np.absolute(two_descriptor[1:nb_coeff+1]))\n",
    "    threes_coeff.append(np.absolute(three_descriptor[1:nb_coeff+1]))\n",
    "\n",
    "plt.scatter(np.asarray(zeros_coeff)[:,0], np.asarray(zeros_coeff)[:,1], color='red', label='zeros descriptors')\n",
    "plt.scatter(np.asarray(ones_coeff)[:,0], np.asarray(ones_coeff)[:,1], color='blue', label='ones descriptors') \n",
    "plt.scatter(np.asarray(twos_coeff)[:,0], np.asarray(twos_coeff)[:,1], color='green', label='twos descriptors')\n",
    "plt.scatter(np.asarray(threes_coeff)[:,0], np.asarray(threes_coeff)[:,1], color='yellow', label='threes descriptors') \n",
    "plt.xlabel(\"Fourrier coefficient 1\")\n",
    "plt.ylabel(\"Fourrier coefficient 2\")\n",
    "plt.legend()\n",
    "plt.show()"
   ]
  },
  {
   "cell_type": "markdown",
   "metadata": {},
   "source": [
    "**Blablabla** as we can see on peu pas vraiment différencier, we need more dimension maybe "
   ]
  },
  {
   "cell_type": "markdown",
   "metadata": {},
   "source": [
    "### 2.2 Additional method(s) and conclusion\n",
    "Add your implementations and discussions here"
   ]
  },
  {
   "cell_type": "code",
   "execution_count": null,
   "metadata": {},
   "outputs": [],
   "source": []
  }
 ],
 "metadata": {
  "kernelspec": {
   "display_name": "Python 3",
   "language": "python",
   "name": "python3"
  },
  "language_info": {
   "codemirror_mode": {
    "name": "ipython",
    "version": 3
   },
   "file_extension": ".py",
   "mimetype": "text/x-python",
   "name": "python",
   "nbconvert_exporter": "python",
   "pygments_lexer": "ipython3",
   "version": "3.7.6"
  }
 },
 "nbformat": 4,
 "nbformat_minor": 2
}
