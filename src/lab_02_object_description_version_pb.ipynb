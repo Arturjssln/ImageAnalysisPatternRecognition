{
 "cells": [
  {
   "cell_type": "markdown",
   "metadata": {},
   "source": [
    "# [IAPR 2020:][iapr2020] Lab 2 ‒  Object description\n",
    "\n",
    "**Authors:** first_name_1 last_name_1, first_name_2 last_name_2, first_name_3 last_name_3  \n",
    "**Due date:** 24.04.2020\n",
    "\n",
    "[iapr2020]: https://github.com/LTS5/iapr-2020"
   ]
  },
  {
   "cell_type": "markdown",
   "metadata": {},
   "source": [
    "## Extract relevant data\n",
    "We first need to extract the `lab-02-data.tar.gz` archive.\n",
    "To this end, we use the [tarfile] module from the Python standard library.\n",
    "\n",
    "[tarfile]: https://docs.python.org/3.6/library/tarfile.html"
   ]
  },
  {
   "cell_type": "code",
   "execution_count": 5,
   "metadata": {},
   "outputs": [],
   "source": [
    "import tarfile\n",
    "import os\n",
    "\n",
    "import math\n",
    "import cv2\n",
    "import numpy as np\n",
    "import matplotlib.pyplot as plt\n",
    "\n",
    "import wagner_fisher as wf\n",
    "\n",
    "data_base_path = os.path.join(os.pardir, 'data')\n",
    "data_folder = 'lab-02-data'\n",
    "tar_path = os.path.join(data_base_path, data_folder + '.tar.gz')\n",
    "with tarfile.open(tar_path, mode='r:gz') as tar:\n",
    "    tar.extractall(path=data_base_path)"
   ]
  },
  {
   "cell_type": "markdown",
   "metadata": {},
   "source": [
    "## Part 1\n",
    "In the `lab-02-data/part1` folder, you will find 28x28 grey-scale pictures of handwritten \"0\" and \"1\".\n",
    "These digits have been extracted from MNIST dataset (http://yann.lecun.com/exdb/mnist/).\n",
    "\n",
    "Your goal is to extract, from each of those images, a 2-dimensional feature vector (i.e. 2 features) and to plot them all on a 2D graph.\n",
    "If you have chosen good features, the vectors of the \"0\"'s should nicely cluster in one part of the plane and those of the \"1\"'s in another.\n",
    "\n",
    "Please try first the Fourier Descriptors.\n",
    "You can make several attempts: e.g. with and without invariance to rotation, translation, scaling, etc.\n",
    "You can also for instance rotate the images and assess the invariance in rotation.\n",
    "\n",
    "**Note:** for the Fourier descriptors, the u_k signal has to be constructed by following the contour point after point.\n",
    "Some pre-processing (image binarization, possibly some Mathematical Morphology) might be useful.\n",
    "\n",
    "Then feel free to try other features, the more you try, the better it will be (for you)."
   ]
  },
  {
   "cell_type": "markdown",
   "metadata": {},
   "source": [
    "### 1.1 Data visualization"
   ]
  },
  {
   "cell_type": "code",
   "execution_count": 6,
   "metadata": {},
   "outputs": [
    {
     "data": {
      "image/png": "[encoded data removed]",
      "text/plain": [
       "<Figure size 864x216 with 20 Axes>"
      ]
     },
     "metadata": {
      "needs_background": "light"
     },
     "output_type": "display_data"
    }
   ],
   "source": [
    "import skimage.io\n",
    "import matplotlib.pyplot as plt\n",
    "%matplotlib inline\n",
    "\n",
    "# Load images\n",
    "data_base_path = os.path.join(os.pardir, 'data')\n",
    "data_folder = 'lab-02-data'\n",
    "#  Load zeros\n",
    "zeros_path = os.path.join(data_base_path, data_folder, 'part1', '0')\n",
    "zeros_names = [nm for nm in os.listdir(zeros_path) if '.png' in nm]  # make sure to only load .png\n",
    "zeros_names.sort()  # sort file names\n",
    "ic = skimage.io.imread_collection([os.path.join(zeros_path, nm) for nm in zeros_names])\n",
    "\n",
    "zeros_im = skimage.io.concatenate_images(ic)\n",
    "zeros_im = skimage.io.concatenate_images(ic)\n",
    "zeros_thresholded_tmp = [cv2.threshold(img.copy(), 2, 1, cv2.THRESH_BINARY) for img in zeros_im]\n",
    "zeros_thresholded = [threshold for _, threshold in zeros_thresholded_tmp]\n",
    "del zeros_thresholded_tmp\n",
    "\n",
    "#  Load ones\n",
    "ones_path = os.path.join(data_base_path, data_folder, 'part1', '1')\n",
    "ones_names = [nm for nm in os.listdir(ones_path) if '.png' in nm]  # make sure to only load .png\n",
    "ones_names.sort()  # sort file names\n",
    "ic = skimage.io.imread_collection(([os.path.join(ones_path, nm) for nm in ones_names]))\n",
    "\n",
    "ones_im = skimage.io.concatenate_images(ic)\n",
    "ones_thresholded_tmp = [cv2.threshold(img.copy(), 2, 1, cv2.THRESH_BINARY) for img in ones_im]\n",
    "ones_thresholded = [threshold for _, threshold in ones_thresholded_tmp]\n",
    "del ones_thresholded_tmp\n",
    "\n",
    "# Plot images\n",
    "fig, axes = plt.subplots(2, len(zeros_im), figsize=(12, 3))\n",
    "for ax, im, nm in zip(axes[0], zeros_im, zeros_names):\n",
    "    ax.imshow(im, cmap='gray')\n",
    "    ax.axis('off')\n",
    "    ax.set_title(nm)\n",
    "for ax, im, nm in zip(axes[1], ones_im, ones_names):\n",
    "    ax.imshow(im, cmap='gray')\n",
    "    ax.axis('off')\n",
    "    ax.set_title(nm)"
   ]
  },
  {
   "cell_type": "markdown",
   "metadata": {},
   "source": [
    "### 1.2 Fourier descriptors\n",
    "Add your implementation and discussion"
   ]
  },
  {
   "cell_type": "code",
   "execution_count": 7,
   "metadata": {},
   "outputs": [],
   "source": [
    "MIN_CONTOUR_POINT = 20"
   ]
  },
  {
   "cell_type": "code",
   "execution_count": 11,
   "metadata": {},
   "outputs": [],
   "source": [
    "def find_contour(img, opencv_version):\n",
    "    \"\"\" Finds and returns the contour of the image\"\"\"\n",
    "    contour = []\n",
    "    if int(opencv_version) >= 3:\n",
    "        _, contour, _ = cv2.findContours(img, mode = cv2.RETR_TREE, method = cv2.CHAIN_APPROX_NONE)\n",
    "        #contour, _ = cv2.findContours(img, mode = cv2.RETR_TREE, method = cv2.CHAIN_APPROX_NONE)\n",
    "    else:\n",
    "        contour, _ = cv2.findContours(img.copy(), mode = cv2.RETR_TREE, method = cv2.CHAIN_APPROX_NONE)\n",
    "    \n",
    "    contour_array = contour[0].reshape(-1, 2)\n",
    "    if contour_array.shape[0] < MIN_CONTOUR_POINT:\n",
    "        contour_array = contour[1].reshape(-1, 2)\n",
    "    return contour_array\n",
    "\n",
    "def convert_contour(contour):\n",
    "    \"\"\" separate real and imaginary part of contour values\"\"\"\n",
    "    contour_complex = np.empty(contour.shape[:-1], dtype=complex)\n",
    "    contour_complex.real = contour[:, 0]\n",
    "    contour_complex.imag = contour[:, 1]\n",
    "    return contour_complex\n",
    "\n",
    "def find_descriptor(contour):\n",
    "    \"\"\" Finds and returns the Fourier-Descriptor from the image contour\"\"\"\n",
    "    return np.fft.fft(contour)"
   ]
  },
  {
   "cell_type": "code",
   "execution_count": 12,
   "metadata": {},
   "outputs": [],
   "source": [
    "opencv_version, _, _ = cv2.__version__.split(\".\")"
   ]
  },
  {
   "cell_type": "code",
   "execution_count": 13,
   "metadata": {},
   "outputs": [],
   "source": [
    "zero_contours = []\n",
    "one_contours = []\n",
    "\n",
    "zero_descriptors = []\n",
    "one_descriptors = []\n",
    "\n",
    "for zero_img, one_img in zip(zeros_thresholded, ones_thresholded):\n",
    "    contour0_raw = find_contour(zero_img, opencv_version)\n",
    "    contour0_complex = convert_contour(contour0_raw)\n",
    "    descriptor0 = find_descriptor(contour0_complex)\n",
    "\n",
    "    contour1_raw = find_contour(one_img, opencv_version)\n",
    "    contour1_complex = convert_contour(contour1_raw)\n",
    "    descriptor1 = find_descriptor(contour1_complex)\n",
    "    \n",
    "    # Save for later usage\n",
    "    zero_contours.append(contour0_raw)\n",
    "    one_contours.append(contour1_raw)\n",
    "    zero_descriptors.append(descriptor0)\n",
    "    one_descriptors.append(descriptor1)\n"
   ]
  },
  {
   "cell_type": "code",
   "execution_count": 14,
   "metadata": {},
   "outputs": [
    {
     "data": {
      "image/png": "[encoded data removed]",
      "text/plain": [
       "<Figure size 864x216 with 20 Axes>"
      ]
     },
     "metadata": {
      "needs_background": "light"
     },
     "output_type": "display_data"
    }
   ],
   "source": [
    "# Plot contours \n",
    "fig, axes = plt.subplots(2, len(zeros_im), figsize=(12, 3))\n",
    "for ax, im, nm, cont in zip(axes[0], zeros_im, zeros_names, zero_contours):\n",
    "    ax.scatter(cont[:, 0], cont[:, 1])\n",
    "    ax.axis('off')\n",
    "    ax.set_title(nm)\n",
    "for ax, im, nm, cont in zip(axes[1], ones_im, ones_names, one_contours):\n",
    "    ax.scatter(cont[:, 0], cont[:, 1], marker=',')\n",
    "    ax.axis('off')\n",
    "    ax.set_title(nm)"
   ]
  },
  {
   "cell_type": "code",
   "execution_count": 15,
   "metadata": {},
   "outputs": [
    {
     "data": {
      "image/png": "[encoded data removed]",
      "text/plain": [
       "<Figure size 432x288 with 1 Axes>"
      ]
     },
     "metadata": {
      "needs_background": "light"
     },
     "output_type": "display_data"
    }
   ],
   "source": [
    "cv2.destroyAllWindows()\n",
    "nb_coeff = 2\n",
    "zeros_coeff = []\n",
    "ones_coeff = []\n",
    "\n",
    "for zero_descriptor, one_descriptor in zip(zero_descriptors, one_descriptors):\n",
    "    zeros_coeff.append(np.absolute(zero_descriptor[1:nb_coeff+1]))\n",
    "    ones_coeff.append(np.absolute(one_descriptor[1:nb_coeff+1]))\n",
    "\n",
    "plt.scatter(np.asarray(zeros_coeff)[:,0], np.asarray(zeros_coeff)[:,1], color='red', label='zeros descriptors')\n",
    "plt.scatter(np.asarray(ones_coeff)[:,0], np.asarray(ones_coeff)[:,1], color='blue', label='ones descriptors')   \n",
    "plt.xlabel(\"Fourrier coefficient 1\")\n",
    "plt.ylabel(\"Fourrier coefficient 2\")\n",
    "plt.legend()\n",
    "plt.show()"
   ]
  },
  {
   "cell_type": "markdown",
   "metadata": {},
   "source": [
    "### 1.3 Additional method(s)\n",
    "Add your implementation and discussion"
   ]
  },
  {
   "cell_type": "markdown",
   "metadata": {},
   "source": [
    "Freeman/Chain method"
   ]
  },
  {
   "cell_type": "markdown",
   "metadata": {},
   "source": [
    "#### J'ai viré pour l'instant ces parties la :p"
   ]
  },
  {
   "cell_type": "code",
   "execution_count": null,
   "metadata": {},
   "outputs": [],
   "source": []
  },
  {
   "cell_type": "code",
   "execution_count": null,
   "metadata": {},
   "outputs": [],
   "source": []
  },
  {
   "cell_type": "code",
   "execution_count": null,
   "metadata": {},
   "outputs": [],
   "source": []
  },
  {
   "cell_type": "code",
   "execution_count": null,
   "metadata": {},
   "outputs": [],
   "source": []
  },
  {
   "cell_type": "markdown",
   "metadata": {},
   "source": [
    "#### Display results of distance between freeman codes"
   ]
  },
  {
   "cell_type": "code",
   "execution_count": null,
   "metadata": {},
   "outputs": [],
   "source": [
    "######raise NotImplementedError"
   ]
  },
  {
   "cell_type": "markdown",
   "metadata": {},
   "source": [
    "## Distance map"
   ]
  },
  {
   "cell_type": "code",
   "execution_count": 16,
   "metadata": {},
   "outputs": [],
   "source": [
    "def create_distance_map(img):\n",
    "    \"\"\"Create distance map from binary image\"\"\"\n",
    "    \n",
    "    if np.unique(img).shape[0] > 2:\n",
    "        raise NameError('Binary image expected.')\n",
    "        \n",
    "    # Initialization \n",
    "    out = np.zeros(img.shape, dtype=np.int64)\n",
    "    out[img == 0] = 2**62 #infinity\n",
    "    \n",
    "    # Direct passage\n",
    "    for i in range(1, out.shape[0]-1):\n",
    "        for j in range(1, out.shape[1]-1):\n",
    "            out[i, j] = np.array([out[i-1, j-1] + 4, out[i-1, j] + 3, out[i-1, j+1] + 4, out[i, j-1] + 3, out[i, j]]).min()\n",
    "    \n",
    "    # Inverse passage \n",
    "    for i in range(out.shape[0]-2, 0, -1):\n",
    "        for j in range(out.shape[1]-2, 0, -1):\n",
    "            out[i, j] = np.array([out[i, j+1] + 3, out[i+1, j-1] + 4, out[i+1, j] + 3, out[i+1, j+1] + 4, out[i, j]]).min()\n",
    "    \n",
    "    #!!!!!!! HERE !!!!!!!!\n",
    "    border = out == 2**62 \n",
    "    out[border] = 0\n",
    "    out[border] = out.max()\n",
    "    return out"
   ]
  },
  {
   "cell_type": "markdown",
   "metadata": {},
   "source": [
    "## J'ai ajoute : create_distance_map_v2 et compute_dist_v2 selon le code d'Artur"
   ]
  },
  {
   "cell_type": "code",
   "execution_count": 17,
   "metadata": {},
   "outputs": [],
   "source": [
    "def create_distance_map_v2(img, contour): #contour []x[] and img associated\n",
    "    \"\"\"Create distance map from contour\"\"\"\n",
    "    \n",
    "    if np.unique(img).shape[0] > 2:\n",
    "        raise NameError('Binary image expected.')\n",
    "        \n",
    "    if len(np.shape(contour)) > 2:\n",
    "        raise NameError('One image contour expected only.')\n",
    "        \n",
    "    # Initialization \n",
    "    out = np.full(img.shape, np.inf)\n",
    "    for i in range(len(contour)):\n",
    "        out[contour[i][0]][contour[i][1]] = 0 \n",
    "    \n",
    "    \n",
    "    # Direct passage\n",
    "    for i in range(1, out.shape[0]-1):\n",
    "        for j in range(1, out.shape[1]-1):\n",
    "            out[i, j] = np.array([out[i-1, j-1] + 4, out[i-1, j] + 3, out[i-1, j+1] + 4, out[i, j-1] + 3, out[i, j]]).min()\n",
    "    \n",
    "    # Inverse passage \n",
    "    for i in range(out.shape[0]-2, 0, -1):\n",
    "        for j in range(out.shape[1]-2, 0, -1):\n",
    "            out[i, j] = np.array([out[i, j+1] + 3, out[i+1, j-1] + 4, out[i+1, j] + 3, out[i+1, j+1] + 4, out[i, j]]).min()\n",
    "\n",
    "    return out"
   ]
  },
  {
   "cell_type": "code",
   "execution_count": null,
   "metadata": {},
   "outputs": [],
   "source": []
  },
  {
   "cell_type": "code",
   "execution_count": 18,
   "metadata": {},
   "outputs": [],
   "source": [
    "def compute_dist(img, dist_map):\n",
    "    \"\"\"Compute distance between a binary image and another image using its distance map\"\"\"\n",
    "    if np.unique(img).shape[0] > 2:\n",
    "        raise NameError('Binary image expected.')\n",
    "    if img.shape != dist_map.shape:\n",
    "        raise NameError('Images must be of the same size.')\n",
    "        \n",
    "    dist = 0\n",
    "    for i in range(img.shape[0]):\n",
    "        for j in range(img.shape[1]):\n",
    "            if img[i,j] != 0:\n",
    "                dist += dist_map[i,j] \n",
    "    return dist"
   ]
  },
  {
   "cell_type": "code",
   "execution_count": 19,
   "metadata": {},
   "outputs": [],
   "source": [
    "def compute_dist_v2(contour, dist_map):\n",
    "    \"\"\"Compute distance between two contours using its distance map\"\"\"\n",
    "    \n",
    "    if len(np.shape(contour)) > 2:\n",
    "        raise NameError('One image contour expected only.')\n",
    "        \n",
    "    dist = 0    \n",
    "    for i in range(contour.shape[0]):\n",
    "        dist += dist_map[contour[i][0],contour[i][1]] \n",
    "    \n",
    "    return dist"
   ]
  },
  {
   "cell_type": "code",
   "execution_count": null,
   "metadata": {},
   "outputs": [],
   "source": []
  },
  {
   "cell_type": "markdown",
   "metadata": {},
   "source": []
  },
  {
   "cell_type": "code",
   "execution_count": 20,
   "metadata": {},
   "outputs": [
    {
     "data": {
      "image/png": "[encoded data removed]",
      "text/plain": [
       "<Figure size 1224x288 with 20 Axes>"
      ]
     },
     "metadata": {
      "needs_background": "light"
     },
     "output_type": "display_data"
    },
    {
     "data": {
      "image/png": "[encoded data removed]",
      "text/plain": [
       "<Figure size 1224x288 with 20 Axes>"
      ]
     },
     "metadata": {
      "needs_background": "light"
     },
     "output_type": "display_data"
    }
   ],
   "source": [
    "zeros_distance_map = [create_distance_map(img) for img in zeros_thresholded]\n",
    "ones_distance_map = [create_distance_map(img) for img in ones_thresholded]\n",
    "\n",
    "\n",
    "zeros_distance_map_v2 = [create_distance_map_v2(img, cnt) for img, cnt in zip(zeros_thresholded, zero_contours)]\n",
    "ones_distance_map_v2 = [create_distance_map_v2(img, cnt) for img,cnt in zip(ones_thresholded, one_contours)]\n",
    "\n",
    "fig, axes = plt.subplots(2, len(zeros_distance_map), figsize=(17, 4))\n",
    "fig.suptitle(\"Distance map using image\")\n",
    "for ax, im, nm in zip(axes[0], zeros_distance_map, zeros_names):\n",
    "    ax.imshow(im)\n",
    "    ax.axis('off')\n",
    "    ax.set_title(nm)\n",
    "for ax, im, nm in zip(axes[1], ones_distance_map, ones_names):\n",
    "    ax.imshow(im)\n",
    "    ax.axis('off')\n",
    "    ax.set_title(nm)\n",
    "fig, axes = plt.subplots(2, len(zeros_distance_map_v2), figsize=(17, 4))\n",
    "fig.suptitle(\"Distance map using contours\")\n",
    "for ax, im, nm in zip(axes[0], zeros_distance_map_v2, zeros_names):\n",
    "    ax.imshow(im)\n",
    "    ax.axis('off')\n",
    "    ax.set_title(nm)\n",
    "for ax, im, nm in zip(axes[1], ones_distance_map_v2, ones_names):\n",
    "    ax.imshow(im)\n",
    "    ax.axis('off')\n",
    "    ax.set_title(nm)\n"
   ]
  },
  {
   "cell_type": "code",
   "execution_count": null,
   "metadata": {},
   "outputs": [],
   "source": []
  },
  {
   "cell_type": "code",
   "execution_count": 21,
   "metadata": {},
   "outputs": [
    {
     "name": "stdout",
     "output_type": "stream",
     "text": [
      "V1: Calculating distance for each zero image and associating to its nearest class:\n",
      "Image 0_1.png: Its contour is closer to the contour of image of type 0\n",
      "-------------> Distance to 0- v1: 134 v2: 135, distance to 1- v1: 1063 v2: 486\n",
      "Image 0_2.png: Its contour is closer to the contour of image of type 0\n",
      "-------------> Distance to 0- v1: 179 v2: 126, distance to 1- v1: 1220 v2: 485\n",
      "Image 0_3.png: Its contour is closer to the contour of image of type 0\n",
      "-------------> Distance to 0- v1: 141 v2: 122, distance to 1- v1: 716 v2: 471\n",
      "Image 0_4.png: Its contour is closer to the contour of image of type 0\n",
      "-------------> Distance to 0- v1: 161 v2: 121, distance to 1- v1: 909 v2: 470\n",
      "Image 0_5.png: Its contour is closer to the contour of image of type 0\n",
      "-------------> Distance to 0- v1: 307 v2: 267, distance to 1- v1: 1790 v2: 692\n",
      "Image 0_6.png: Its contour is closer to the contour of image of type 0\n",
      "-------------> Distance to 0- v1: 461 v2: 264, distance to 1- v1: 1974 v2: 711\n",
      "Image 0_7.png: Its contour is closer to the contour of image of type 0\n",
      "-------------> Distance to 0- v1: 306 v2: 208, distance to 1- v1: 1582 v2: 607\n",
      "Image 0_8.png: Its contour is closer to the contour of image of type 0\n",
      "-------------> Distance to 0- v1: 601 v2: 301, distance to 1- v1: 1688 v2: 781\n",
      "Image 0_9.png: Its contour is closer to the contour of image of type 0\n",
      "-------------> Distance to 0- v1: 179 v2: 205, distance to 1- v1: 1284 v2: 588\n",
      "\n",
      "Calculating distance for each zero image and associating to its nearest class:\n",
      "Image 1_1.png: Its contour is closer to the contour of image of type 0\n",
      "-------------> Distance to 0- v1: 205 v2: 178, distance to 1- v1: 527 v2: 476\n",
      "Image 1_2.png: Its contour is closer to the contour of image of type 0\n",
      "-------------> Distance to 0- v1: 133 v2: 135, distance to 1- v1: 301 v2: 394\n",
      "Image 1_3.png: Its contour is closer to the contour of image of type 0\n",
      "-------------> Distance to 0- v1: 167 v2: 131, distance to 1- v1: 266 v2: 373\n",
      "Image 1_4.png: Its contour is closer to the contour of image of type 1\n",
      "-------------> Distance to 0- v1: 178 v2: 113, distance to 1- v1: 21 v2: 185\n",
      "Image 1_5.png: Its contour is closer to the contour of image of type 0\n",
      "-------------> Distance to 0- v1: 254 v2: 184, distance to 1- v1: 707 v2: 592\n",
      "Image 1_6.png: Its contour is closer to the contour of image of type 0\n",
      "-------------> Distance to 0- v1: 158 v2: 118, distance to 1- v1: 194 v2: 333\n",
      "Image 1_7.png: Its contour is closer to the contour of image of type 1\n",
      "-------------> Distance to 0- v1: 170 v2: 113, distance to 1- v1: 37 v2: 236\n",
      "Image 1_8.png: Its contour is closer to the contour of image of type 0\n",
      "-------------> Distance to 0- v1: 190 v2: 226, distance to 1- v1: 226 v2: 517\n",
      "Image 1_9.png: Its contour is closer to the contour of image of type 0\n",
      "-------------> Distance to 0- v1: 277 v2: 199, distance to 1- v1: 835 v2: 587\n"
     ]
    }
   ],
   "source": [
    "# init of the distance map used to class other images\n",
    "zero_dist_map_ref = zeros_distance_map[0]\n",
    "one_dist_map_ref = ones_distance_map[0]\n",
    "zero_dist_map_ref_v2 = zeros_distance_map_v2[0]\n",
    "one_dist_map_ref_v2 = ones_distance_map_v2[0]\n",
    "\n",
    "print(\"V1: Calculating distance for each zero image and associating to its nearest class:\")\n",
    "for i in range(1, len(zeros_distance_map)):\n",
    "    dist_to_zero = compute_dist(zeros_thresholded[i], zero_dist_map_ref)\n",
    "    dist_to_one = compute_dist(zeros_thresholded[i], one_dist_map_ref)\n",
    "    dist_to_zero_v2 = compute_dist_v2(zero_contours[i], zero_dist_map_ref)\n",
    "    dist_to_one_v2 = compute_dist_v2(zero_contours[i], one_dist_map_ref)\n",
    "    print('Image {}: Its contour is closer to the contour of image of type {}'.format(zeros_names[i], 0 if dist_to_zero < dist_to_one else 1)) \n",
    "    print('-------------> Distance to 0- v1: {} v2: {}, distance to 1- v1: {} v2: {}'.format(dist_to_zero, dist_to_zero_v2, dist_to_one, dist_to_one_v2))\n",
    "    \n",
    "print(\"\\nCalculating distance for each zero image and associating to its nearest class:\")\n",
    "for i in range(1, len(zeros_distance_map)):\n",
    "    dist_to_zero = compute_dist(ones_thresholded[i], zero_dist_map_ref)\n",
    "    dist_to_one = compute_dist(ones_thresholded[i], one_dist_map_ref)\n",
    "    dist_to_zero_v2 = compute_dist_v2(one_contours[i], zero_dist_map_ref)\n",
    "    dist_to_one_v2 = compute_dist_v2(one_contours[i], one_dist_map_ref)\n",
    "    print('Image {}: Its contour is closer to the contour of image of type {}'.format(ones_names[i], 0 if dist_to_zero < dist_to_one else 1))\n",
    "    print('-------------> Distance to 0- v1: {} v2: {}, distance to 1- v1: {} v2: {}'.format(dist_to_zero, dist_to_zero_v2, dist_to_one, dist_to_one_v2))\n"
   ]
  },
  {
   "cell_type": "markdown",
   "metadata": {},
   "source": [
    "## Translation part\n",
    "normalement ca a l'air ok je pense"
   ]
  },
  {
   "cell_type": "code",
   "execution_count": 23,
   "metadata": {},
   "outputs": [],
   "source": [
    "#contour translation\n",
    "def contour_translation(contour,trans_x,trans_y):\n",
    "    translation_vect = [[trans_x],[trans_y]]\n",
    "    translation_mat = np.repeat(translation_vect,len(contour),axis=1)\n",
    "    translation_mat = translation_mat.transpose()\n",
    "    \n",
    "    #addition\n",
    "    translated_contours = np.add(contour,translation_mat)\n",
    "    \n",
    "    #check if in bounds\n",
    "    up_limit = 28\n",
    "    idx = np.where(translated_contours >= up_limit)\n",
    "    translated_contours = np.delete(translated_contours, idx[0], axis=0)\n",
    "    low_limit = 0\n",
    "    idx = np.where(translated_contours < low_limit)\n",
    "    translated_contours = np.delete(translated_contours, idx[0], axis=0)\n",
    "\n",
    "    \n",
    "    return translated_contours"
   ]
  },
  {
   "cell_type": "markdown",
   "metadata": {},
   "source": [
    "## ISSUE:\n",
    "dans contour translation, je supprime les coordonnéees des points si ils ne se situent plus dans l'image (28x28)\n",
    "Du coup quand je calcule mon erreur par rapport a ma distance map (compute_dist_v2), j'ai moins de point a comparer du coup mon erreur est faible. \n",
    "Je peux donc pas trouver la translation optimale...."
   ]
  },
  {
   "cell_type": "code",
   "execution_count": null,
   "metadata": {},
   "outputs": [],
   "source": [
    "# optimal translation for the zero images\n",
    "fig, ax = plt.subplots(1, len(zeros_distance_map_v2), figsize=(12, 3))\n",
    "ax[0].imshow(zeros_thresholded[0])\n",
    "\n",
    "for i in range(1, len(zeros_distance_map_v2)):\n",
    "    dist_to_zero_v2 = 1000\n",
    "    x_final = 0\n",
    "    y_final = 0\n",
    "    [height, width] = zeros_thresholded[i].shape\n",
    "    print('INIT: image', i )\n",
    "    for trans_x in range(-5,5,2):        \n",
    "        for trans_y in range(-5,5,2):\n",
    "            #translation_matrix = np.float32([[1,0,trans_x], [0,1,trans_y]])\n",
    "            #img_translation = cv2.warpAffine(zeros_thresholded[i], translation_matrix, (width, height))\n",
    "            cnt_translation = contour_translation(zero_contours[i],trans_x,trans_y)\n",
    "            dist2 = compute_dist_v2(cnt_translation, zero_dist_map_ref)\n",
    "            if dist2 < dist_to_zero_v2:\n",
    "                dist_to_zero_v2 = dist2\n",
    "                x_final = trans_x\n",
    "                y_final = trans_y\n",
    "                \n",
    "    translation_matrix = np.float32([[1,0,x_final], [0,1,y_final]])\n",
    "    img_translation = cv2.warpAffine(zeros_thresholded[i], translation_matrix, (width, height))\n",
    "    print('Imnage {}: distance min is of value {} for a translation of ({},{}).'.format(i,dist_to_zero_v2,x_final,y_final))\n",
    "    ax[i].imshow(img_translation)"
   ]
  },
  {
   "cell_type": "code",
   "execution_count": 2,
   "metadata": {},
   "outputs": [
    {
     "ename": "NameError",
     "evalue": "name 'plt' is not defined",
     "output_type": "error",
     "traceback": [
      "\u001b[0;31m---------------------------------------------------------------------------\u001b[0m",
      "\u001b[0;31mNameError\u001b[0m                                 Traceback (most recent call last)",
      "\u001b[0;32m<ipython-input-2-b960385762cd>\u001b[0m in \u001b[0;36m<module>\u001b[0;34m\u001b[0m\n\u001b[1;32m      1\u001b[0m \u001b[0;31m# optimal translation for the ones images\u001b[0m\u001b[0;34m\u001b[0m\u001b[0;34m\u001b[0m\u001b[0;34m\u001b[0m\u001b[0m\n\u001b[0;32m----> 2\u001b[0;31m \u001b[0mfig\u001b[0m\u001b[0;34m,\u001b[0m \u001b[0max\u001b[0m \u001b[0;34m=\u001b[0m \u001b[0mplt\u001b[0m\u001b[0;34m.\u001b[0m\u001b[0msubplots\u001b[0m\u001b[0;34m(\u001b[0m\u001b[0;36m1\u001b[0m\u001b[0;34m,\u001b[0m \u001b[0;36m2\u001b[0m\u001b[0;34m*\u001b[0m\u001b[0mlen\u001b[0m\u001b[0;34m(\u001b[0m\u001b[0mones_distance_map_v2\u001b[0m\u001b[0;34m)\u001b[0m\u001b[0;34m,\u001b[0m \u001b[0mfigsize\u001b[0m\u001b[0;34m=\u001b[0m\u001b[0;34m(\u001b[0m\u001b[0;36m12\u001b[0m\u001b[0;34m,\u001b[0m \u001b[0;36m5\u001b[0m\u001b[0;34m)\u001b[0m\u001b[0;34m)\u001b[0m\u001b[0;34m\u001b[0m\u001b[0;34m\u001b[0m\u001b[0m\n\u001b[0m\u001b[1;32m      3\u001b[0m \u001b[0max\u001b[0m\u001b[0;34m[\u001b[0m\u001b[0;36m0\u001b[0m\u001b[0;34m]\u001b[0m\u001b[0;34m.\u001b[0m\u001b[0mimshow\u001b[0m\u001b[0;34m(\u001b[0m\u001b[0mones_thresholded\u001b[0m\u001b[0;34m[\u001b[0m\u001b[0;36m0\u001b[0m\u001b[0;34m]\u001b[0m\u001b[0;34m)\u001b[0m\u001b[0;34m\u001b[0m\u001b[0;34m\u001b[0m\u001b[0m\n\u001b[1;32m      4\u001b[0m \u001b[0;34m\u001b[0m\u001b[0m\n\u001b[1;32m      5\u001b[0m \u001b[0;32mfor\u001b[0m \u001b[0mi\u001b[0m \u001b[0;32min\u001b[0m \u001b[0mrange\u001b[0m\u001b[0;34m(\u001b[0m\u001b[0;36m1\u001b[0m\u001b[0;34m,\u001b[0m \u001b[0mlen\u001b[0m\u001b[0;34m(\u001b[0m\u001b[0mones_distance_map_v2\u001b[0m\u001b[0;34m)\u001b[0m\u001b[0;34m)\u001b[0m\u001b[0;34m:\u001b[0m\u001b[0;34m\u001b[0m\u001b[0;34m\u001b[0m\u001b[0m\n",
      "\u001b[0;31mNameError\u001b[0m: name 'plt' is not defined"
     ]
    }
   ],
   "source": [
    "# optimal translation for the ones images\n",
    "fig, ax = plt.subplots(1, 2*len(ones_distance_map_v2), figsize=(12, 5))\n",
    "ax[0].imshow(ones_thresholded[0])\n",
    "\n",
    "for i in range(1, len(ones_distance_map_v2)):\n",
    "    dist_to_one_v2 = 1000\n",
    "    x_final = 0\n",
    "    y_final = 0\n",
    "    [height, width] = ones_thresholded[i].shape\n",
    "    print('INIT: image', i )\n",
    "    for trans_x in range(-5,5,2):        \n",
    "        for trans_y in range(-5,5,2):\n",
    "            cnt_translation = contour_translation(one_contours[i],trans_x,trans_y)\n",
    "            dist2 = compute_dist_v2(cnt_translation, one_dist_map_ref)\n",
    "            \n",
    "            #print(dist2)\n",
    "            if dist2 < dist_to_one_v2:\n",
    "                dist_to_one_v2 = dist2\n",
    "                x_final = trans_x\n",
    "                y_final = trans_y\n",
    "\n",
    "    translation_matrix = np.float32([[1,0,x_final], [0,1,y_final]])\n",
    "    img_translation = cv2.warpAffine(ones_thresholded[i], translation_matrix, (width, height))\n",
    "    print('Imnage {}: distance min is of value {} for a translation of ({},{}).'.format(i,dist_to_one_v2,x_final,y_final))\n",
    "    ax[2*i].imshow(ones_thresholded[i])\n",
    "    ax[2*i+1].imshow(img_translation)"
   ]
  },
  {
   "cell_type": "markdown",
   "metadata": {},
   "source": [
    "## Rotation part\n",
    "principalement sur le set des 1, ca marche pas du tout comme il faut..\n",
    "Je sais pas si c'est le calcul de la distance map, ou le calcul de \"l'erreur contour par rapport a la distance map\", ou tout simplement ce que j'ai fait below...\n"
   ]
  },
  {
   "cell_type": "code",
   "execution_count": null,
   "metadata": {},
   "outputs": [],
   "source": [
    "#contour rotation\n",
    "def contour_rotation(contour,angle,center):\n",
    "\n",
    "    angle = angle * np.pi / 180 # degrees to radians\n",
    "    rotated_contours = np.zeros(contour.shape)\n",
    "    ox, oy = center\n",
    "    for i in range(contour.shape[0]):       \n",
    "        px, py = contour[i, :]\n",
    "        rotated_contours[i,0] = ox + math.cos(angle) * (px - ox) - math.sin(angle) * (py - oy)\n",
    "        rotated_contours[i,1] = oy + math.sin(angle) * (px - ox) + math.cos(angle) * (py - oy)\n",
    "\n",
    "    #check if in bounds\n",
    "    up_limit = 28\n",
    "    idx = np.where(rotated_contours >= up_limit)\n",
    "    rotated_contours = np.delete(rotated_contours, idx[0], axis=0)\n",
    "    low_limit = 0\n",
    "    idx = np.where(rotated_contours < low_limit)\n",
    "    rotated_contours = np.delete(rotated_contours, idx[0], axis=0)\n",
    "  \n",
    "    rotated_contours = rotated_contours.astype(int) #they are coordinates need to be int\n",
    "    return rotated_contours"
   ]
  },
  {
   "cell_type": "code",
   "execution_count": null,
   "metadata": {},
   "outputs": [],
   "source": [
    "# optimal rotation for the zero images\n",
    "fig, ax = plt.subplots(1, len(zeros_distance_map_v2), figsize=(12, 3))\n",
    "ax[0].imshow(zeros_thresholded[0])\n",
    "\n",
    "scale = 1\n",
    "for i in range(1, len(zeros_distance_map_v2)):\n",
    "    dist_to_zero_v2 = 1000\n",
    "    angle_final = 0\n",
    "    [height, width] = zeros_thresholded[i].shape\n",
    "    center = (width / 2, height / 2)\n",
    "    print('INIT: image', i )\n",
    "    \n",
    "    for angle in np.arange(0, 360, 15):  \n",
    "        #rotation_matrix = cv2.getRotationMatrix2D(center, angle, scale)\n",
    "        #img_rotation = cv2.warpAffine(zeros_thresholded[i], rotation_matrix, (width, height))\n",
    "        cnt_rotation = contour_rotation(zero_contours[i],angle,center)\n",
    "        dist2 = compute_dist_v2(cnt_rotation, zero_dist_map_ref)\n",
    "        if dist2 < dist_to_zero_v2:\n",
    "            dist_to_zero_v2 = dist2\n",
    "            angle_final = angle\n",
    "    \n",
    "    rotation_matrix = cv2.getRotationMatrix2D(center, angle_final, scale)    \n",
    "    img_rotation = cv2.warpAffine(zeros_thresholded[i], rotation_matrix, (width, height))\n",
    "    print('Imnage {}: distance min is of value {} for a rotation of {} degrees.'.format(i,dist_to_zero_v2,angle_final))\n",
    "    ax[i].imshow(img_rotation)\n",
    "    \n"
   ]
  },
  {
   "cell_type": "code",
   "execution_count": 1,
   "metadata": {},
   "outputs": [
    {
     "ename": "NameError",
     "evalue": "name 'plt' is not defined",
     "output_type": "error",
     "traceback": [
      "\u001b[0;31m---------------------------------------------------------------------------\u001b[0m",
      "\u001b[0;31mNameError\u001b[0m                                 Traceback (most recent call last)",
      "\u001b[0;32m<ipython-input-1-169bb886fb88>\u001b[0m in \u001b[0;36m<module>\u001b[0;34m\u001b[0m\n\u001b[1;32m      1\u001b[0m \u001b[0;31m# optimal rotation for the one images\u001b[0m\u001b[0;34m\u001b[0m\u001b[0;34m\u001b[0m\u001b[0;34m\u001b[0m\u001b[0m\n\u001b[0;32m----> 2\u001b[0;31m \u001b[0mfig\u001b[0m\u001b[0;34m,\u001b[0m \u001b[0max\u001b[0m \u001b[0;34m=\u001b[0m \u001b[0mplt\u001b[0m\u001b[0;34m.\u001b[0m\u001b[0msubplots\u001b[0m\u001b[0;34m(\u001b[0m\u001b[0;36m2\u001b[0m\u001b[0;34m,\u001b[0m \u001b[0mlen\u001b[0m\u001b[0;34m(\u001b[0m\u001b[0mones_distance_map_v2\u001b[0m\u001b[0;34m)\u001b[0m\u001b[0;34m+\u001b[0m\u001b[0;36m1\u001b[0m\u001b[0;34m,\u001b[0m \u001b[0mfigsize\u001b[0m\u001b[0;34m=\u001b[0m\u001b[0;34m(\u001b[0m\u001b[0;36m17\u001b[0m\u001b[0;34m,\u001b[0m \u001b[0;36m4\u001b[0m\u001b[0;34m)\u001b[0m\u001b[0;34m)\u001b[0m\u001b[0;34m\u001b[0m\u001b[0;34m\u001b[0m\u001b[0m\n\u001b[0m\u001b[1;32m      3\u001b[0m \u001b[0max\u001b[0m\u001b[0;34m[\u001b[0m\u001b[0;36m0\u001b[0m\u001b[0;34m]\u001b[0m\u001b[0;34m[\u001b[0m\u001b[0;36m0\u001b[0m\u001b[0;34m]\u001b[0m\u001b[0;34m.\u001b[0m\u001b[0mimshow\u001b[0m\u001b[0;34m(\u001b[0m\u001b[0mones_thresholded\u001b[0m\u001b[0;34m[\u001b[0m\u001b[0;36m0\u001b[0m\u001b[0;34m]\u001b[0m\u001b[0;34m)\u001b[0m\u001b[0;34m\u001b[0m\u001b[0;34m\u001b[0m\u001b[0m\n\u001b[1;32m      4\u001b[0m \u001b[0;34m\u001b[0m\u001b[0m\n\u001b[1;32m      5\u001b[0m \u001b[0mscale\u001b[0m \u001b[0;34m=\u001b[0m \u001b[0;36m1\u001b[0m\u001b[0;34m\u001b[0m\u001b[0;34m\u001b[0m\u001b[0m\n",
      "\u001b[0;31mNameError\u001b[0m: name 'plt' is not defined"
     ]
    }
   ],
   "source": [
    "# optimal rotation for the one images\n",
    "fig, ax = plt.subplots(2, len(ones_distance_map_v2)+1, figsize=(17, 4))\n",
    "ax[0][0].imshow(ones_thresholded[0])\n",
    "\n",
    "scale = 1\n",
    "for i in range(len(ones_distance_map_v2)):\n",
    "    dist_to_one_v2 = 1000\n",
    "    dist_to_one = 1000\n",
    "    angle_final = 0\n",
    "    [height, width] = ones_thresholded[i].shape\n",
    "    center = (width / 2, height / 2)\n",
    "    print('INIT: image', i )\n",
    "    \n",
    "    for angle in np.arange(0, 360, 2):  \n",
    "        cnt_rotation = contour_rotation(one_contours[i],angle,center)\n",
    "        dist2 = compute_dist_v2(cnt_rotation, one_dist_map_ref)\n",
    "        if dist2 < dist_to_one_v2:\n",
    "            dist_to_one_v2 = dist2\n",
    "            angle_final = angle\n",
    "       \n",
    "    \n",
    "    rotation_matrix = cv2.getRotationMatrix2D(center, angle_final, scale)    \n",
    "    img_rotation = cv2.warpAffine(ones_thresholded[i], rotation_matrix, (width, height))\n",
    "    print('Image {}: distance min is of value {} for a rotation of {} degrees.'.format(i,dist_to_one_v2,angle_final))\n",
    "    ax[0][i+1].imshow(img_rotation)\n",
    "    ax[1][i+1].imshow(ones_thresholded[i])\n",
    "    \n",
    "\n",
    "\n",
    "    \n"
   ]
  },
  {
   "cell_type": "markdown",
   "metadata": {},
   "source": [
    "## Translation et rotation ensemble..\n",
    "guess what ca marche pas ahhahaa"
   ]
  },
  {
   "cell_type": "code",
   "execution_count": null,
   "metadata": {},
   "outputs": [],
   "source": [
    "# optimal TRANSLATION/rotation for the zero images\n",
    "fig, ax = plt.subplots(1, len(zeros_distance_map_v2), figsize=(12, 3))\n",
    "ax[0].imshow(zeros_thresholded[0])\n",
    "\n",
    "scale = 1\n",
    "for i in range(1, len(zeros_distance_map_v2)):\n",
    "    dist_to_zero_v2 = 1000\n",
    "    angle_final = 0\n",
    "    x_final = 0\n",
    "    y_final = 0\n",
    "    [height, width] = zeros_thresholded[i].shape\n",
    "    center = (width / 2, height / 2)\n",
    "    print('INIT: image', i )\n",
    "    for trans_x in range(-5,5,1):        \n",
    "        for trans_y in range(-5,5,1):\n",
    "            for angle in np.arange(0, 360, 10):  \n",
    "                translation_matrix = np.float32([[1,0,trans_x], [0,1,trans_y]])\n",
    "                img_translation = cv2.warpAffine(zeros_thresholded[i], translation_matrix, (width, height))\n",
    "                cnt_translation = contour_translation(zero_contours[i],trans_x,trans_y)\n",
    "                rotation_matrix = cv2.getRotationMatrix2D(center, angle, scale)\n",
    "                img_rotation = cv2.warpAffine(img_translation, rotation_matrix, (width, height))\n",
    "                cnt_rotation = contour_rotation(cnt_translation,angle,center)\n",
    "                dist2 = compute_dist_v2(img_rotation, cnt_rotation, zero_dist_map_ref)\n",
    "                if dist2 < dist_to_zero_v2:\n",
    "                    dist_to_zero_v2 = dist2\n",
    "                    angle_final = angle\n",
    "                    x_final = trans_x\n",
    "                    y_final = trans_y\n",
    "    \n",
    "    translation_matrix = np.float32([[1,0,x_final], [0,1,y_final]])\n",
    "    rotation_matrix = cv2.getRotationMatrix2D(center, angle_final, scale)\n",
    "    img_translation = cv2.warpAffine(zeros_thresholded[i], translation_matrix, (width, height))\n",
    "    img_rotation = cv2.warpAffine(img_translation, rotation_matrix, (width, height))\n",
    "    print('Imnage {}: distance min is of value {} for a rotation of {} degrees.'.format(i,dist_to_zero_v2,angle_final))\n",
    "    ax[i].imshow(img_rotation)\n",
    "    \n"
   ]
  },
  {
   "cell_type": "code",
   "execution_count": null,
   "metadata": {},
   "outputs": [],
   "source": [
    "# optimal TRANSLATION/rotation for the zero images\n",
    "fig, ax = plt.subplots(1, len(ones_distance_map_v2), figsize=(12, 3))\n",
    "ax[0].imshow(ones_thresholded[0])\n",
    "\n",
    "scale = 1\n",
    "for i in range(1, len(ones_distance_map_v2)):\n",
    "    dist_to_one_v2 = 1000\n",
    "    angle_final = 0\n",
    "    x_final = 0\n",
    "    y_final = 0\n",
    "    [height, width] = ones_thresholded[i].shape\n",
    "    center = (width / 2, height / 2)\n",
    "    print('INIT: image', i )\n",
    "    for trans_x in range(-5,5,1):        \n",
    "        for trans_y in range(-5,5,1):\n",
    "            for angle in np.arange(0, 360, 10):  \n",
    "                cnt_translation = contour_translation(one_contours[i],trans_x,trans_y)\n",
    "                cnt_rotation = contour_rotation(cnt_translation,angle,center)\n",
    "                dist2 = compute_dist_v2(cnt_rotation, one_dist_map_ref)\n",
    "                if dist2 < dist_to_one_v2:\n",
    "                    dist_to_one_v2 = dist2\n",
    "                    angle_final = angle\n",
    "                    x_final = trans_x\n",
    "                    y_final = trans_y\n",
    "    \n",
    "    translation_matrix = np.float32([[1,0,x_final], [0,1,y_final]])\n",
    "    rotation_matrix = cv2.getRotationMatrix2D(center, angle_final, scale)\n",
    "    img_translation = cv2.warpAffine(ones_thresholded[i], translation_matrix, (width, height))\n",
    "    img_rotation = cv2.warpAffine(img_translation, rotation_matrix, (width, height))\n",
    "    print('Imnage {}: distance min is of value {} for a rotation of {} degrees.'.format(i,dist_to_one_v2,angle_final))\n",
    "    ax[i].imshow(img_rotation)\n",
    "    \n",
    "\n"
   ]
  },
  {
   "cell_type": "markdown",
   "metadata": {},
   "source": [
    "## Part 2\n",
    "The `lab-02-data/part2` folder contains grey-scale pictures of handwritten \"2\" and \"3\".\n",
    "Extract the same feature (typically 2 Fourier descriptors) as in part 1 also on these images and plot them on the same graph as the features of the \"0\" and \"1\".\n",
    "Is it possible to discriminate all these 4 digits with a 2-dimensional feature vector?"
   ]
  },
  {
   "cell_type": "markdown",
   "metadata": {},
   "source": [
    "### 2.1 Data visualization"
   ]
  },
  {
   "cell_type": "code",
   "execution_count": null,
   "metadata": {},
   "outputs": [],
   "source": [
    "#  Load zeros\n",
    "twos_path = os.path.join(data_base_path, data_folder, 'part2', '2')\n",
    "twos_names = [nm for nm in os.listdir(twos_path) if '.png' in nm]  # make sure to only load .png\n",
    "twos_names.sort()  # sort file names\n",
    "ic = skimage.io.imread_collection([os.path.join(twos_path, nm) for nm in twos_names])\n",
    "twos_im = skimage.io.concatenate_images(ic)\n",
    "#  Load ones\n",
    "threes_path = os.path.join(data_base_path, data_folder, 'part2', '3')\n",
    "threes_names = [nm for nm in os.listdir(threes_path) if '.png' in nm]  # make sure to only load .png\n",
    "threes_names.sort()  # sort file names\n",
    "ic = skimage.io.imread_collection(([os.path.join(threes_path, nm) for nm in threes_names]))\n",
    "threes_im = skimage.io.concatenate_images(ic)\n",
    "\n",
    "# Plot images\n",
    "fig, axes = plt.subplots(2, len(twos_im), figsize=(12, 3))\n",
    "for ax, im, nm in zip(axes[0], twos_im, twos_names):\n",
    "    ax.imshow(im, cmap='gray')\n",
    "    ax.axis('off')\n",
    "    ax.set_title(nm)\n",
    "for ax, im, nm in zip(axes[1], threes_im, threes_names):\n",
    "    ax.imshow(im, cmap='gray')\n",
    "    ax.axis('off')\n",
    "    ax.set_title(nm)"
   ]
  },
  {
   "cell_type": "markdown",
   "metadata": {},
   "source": [
    "### 2.2 Additional method(s) and conclusion\n",
    "Add your implementations and discussions here"
   ]
  },
  {
   "cell_type": "code",
   "execution_count": null,
   "metadata": {},
   "outputs": [],
   "source": []
  }
 ],
 "metadata": {
  "kernelspec": {
   "display_name": "Python 3",
   "language": "python",
   "name": "python3"
  },
  "language_info": {
   "codemirror_mode": {
    "name": "ipython",
    "version": 3
   },
   "file_extension": ".py",
   "mimetype": "text/x-python",
   "name": "python",
   "nbconvert_exporter": "python",
   "pygments_lexer": "ipython3",
   "version": "3.7.6"
  }
 },
 "nbformat": 4,
 "nbformat_minor": 2
}
